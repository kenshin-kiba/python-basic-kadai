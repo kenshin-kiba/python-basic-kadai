{
  "nbformat": 4,
  "nbformat_minor": 0,
  "metadata": {
    "colab": {
      "provenance": []
    },
    "kernelspec": {
      "name": "python3",
      "display_name": "Python 3"
    },
    "language_info": {
      "name": "python"
    }
  },
  "cells": [
    {
      "cell_type": "code",
      "execution_count": 1,
      "metadata": {
        "colab": {
          "base_uri": "https://localhost:8080/"
        },
        "id": "QtrshUzq3hFj",
        "outputId": "f5470c61-66c1-4eee-97ea-9071f0b09f0d"
      },
      "outputs": [
        {
          "output_type": "stream",
          "name": "stdout",
          "text": [
            "消費税込みの価格は121.0円です。\n"
          ]
        }
      ],
      "source": [
        "def calculate_total(price, consumption_tax):\n",
        "  total = price + (price * consumption_tax / 100)\n",
        "  return total\n",
        "\n",
        "total_price = calculate_total(110, 10)\n",
        "\n",
        "print(f\"消費税込みの価格は{total_price}円です。\")"
      ]
    }
  ]
}