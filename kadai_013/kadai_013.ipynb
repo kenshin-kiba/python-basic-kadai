{
  "nbformat": 4,
  "nbformat_minor": 0,
  "metadata": {
    "colab": {
      "provenance": []
    },
    "kernelspec": {
      "name": "python3",
      "display_name": "Python 3"
    },
    "language_info": {
      "name": "python"
    }
  },
  "cells": [
    {
      "cell_type": "code",
      "execution_count": null,
      "metadata": {
        "colab": {
          "base_uri": "https://localhost:8080/"
        },
        "id": "QtrshUzq3hFj",
        "outputId": "f92aaa4c-d88a-49a2-8908-96a8a4b02fd9"
      },
      "outputs": [
        {
          "output_type": "stream",
          "name": "stdout",
          "text": [
            "消費税込みの価格は110.00000000000001円です。\n"
          ]
        }
      ],
      "source": [
        "def calculate_total(price, consumption_tax):\n",
        "  total = price * (1 + consumption_tax)\n",
        "  return total\n",
        "\n",
        "total_price = calculate_total(100, 0.1)\n",
        "\n",
        "print(f\"消費税込みの価格は{total_price}円です。\")"
      ]
    }
  ]
}