{
  "nbformat": 4,
  "nbformat_minor": 0,
  "metadata": {
    "colab": {
      "provenance": []
    },
    "kernelspec": {
      "name": "python3",
      "display_name": "Python 3"
    },
    "language_info": {
      "name": "python"
    }
  },
  "cells": [
    {
      "cell_type": "code",
      "execution_count": 2,
      "metadata": {
        "colab": {
          "base_uri": "https://localhost:8080/"
        },
        "id": "kaaRq81ifgYX",
        "outputId": "bf06e542-5d57-4e89-be0e-65fff21b8b72"
      },
      "outputs": [
        {
          "output_type": "stream",
          "name": "stdout",
          "text": [
            "織田信長さんは大人ではありません。\n",
            "羽柴秀吉さんは大人です。\n"
          ]
        }
      ],
      "source": [
        "class Human:\n",
        "  def __init__(self, name, age):\n",
        "    self.name = name\n",
        "    self.age = age\n",
        "\n",
        "  def check_adult(self):\n",
        "    if self.age >= 20:\n",
        "      print(f\"{self.name}さんは大人です。\")\n",
        "    else:\n",
        "      print(f\"{self.name}さんは大人ではありません。\")\n",
        "\n",
        "human1 = Human(\"織田信長\", 10)\n",
        "human2 = Human(\"羽柴秀吉\", 20)\n",
        "\n",
        "humans_list = [human1, human2]\n",
        "\n",
        "for human in humans_list:\n",
        "    human.check_adult()"
      ]
    }
  ]
}